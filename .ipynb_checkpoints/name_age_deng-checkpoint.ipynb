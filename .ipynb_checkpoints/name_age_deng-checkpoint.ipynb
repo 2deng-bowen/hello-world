{
 "cells": [
  {
   "cell_type": "code",
   "execution_count": 1,
   "id": "46a9a3f0-57aa-4d5f-97a6-cc5ba030d859",
   "metadata": {},
   "outputs": [
    {
     "name": "stdin",
     "output_type": "stream",
     "text": [
      "Please enter your name:  cat\n"
     ]
    },
    {
     "name": "stdout",
     "output_type": "stream",
     "text": [
      "Hello, cat!\n"
     ]
    },
    {
     "name": "stdin",
     "output_type": "stream",
     "text": [
      "Enter your age:  12\n"
     ]
    },
    {
     "name": "stdout",
     "output_type": "stream",
     "text": [
      "Hello cat! You are 38 years away from 50 years old. Wish you get a good grade in this project.\n"
     ]
    }
   ],
   "source": [
    "name = input(\"Please enter your name: \")\n",
    "print(f\"Hello, {name}!\")\n",
    "\n",
    "age_str = input(\"Enter your age: \")\n",
    "# Convert the string input to an integer for numerical operations\n",
    "age = int(age_str)\n",
    "\n",
    "if age<50:\n",
    "    print(f\"Hello {name}! You are {50-age} years away from 50 years old. Wish you get a good grade in this project.\")\n",
    "else:\n",
    "    print(\"You are already 50 years old or older! WOW!\")"
   ]
  },
  {
   "cell_type": "code",
   "execution_count": null,
   "id": "a7b05444-1300-47cb-84f5-b57ff6f5ee5c",
   "metadata": {},
   "outputs": [],
   "source": []
  }
 ],
 "metadata": {
  "kernelspec": {
   "display_name": "Python 3 (ipykernel)",
   "language": "python",
   "name": "python3"
  },
  "language_info": {
   "codemirror_mode": {
    "name": "ipython",
    "version": 3
   },
   "file_extension": ".py",
   "mimetype": "text/x-python",
   "name": "python",
   "nbconvert_exporter": "python",
   "pygments_lexer": "ipython3",
   "version": "3.11.13"
  }
 },
 "nbformat": 4,
 "nbformat_minor": 5
}
