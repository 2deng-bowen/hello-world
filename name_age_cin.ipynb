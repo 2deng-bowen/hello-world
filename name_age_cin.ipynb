{
 "cells": [
  {
   "cell_type": "code",
   "execution_count": 1,
   "id": "f96d89c8-dd23-4633-8805-10f7602e10ec",
   "metadata": {},
   "outputs": [
    {
     "name": "stdin",
     "output_type": "stream",
     "text": [
      "What's your name?  \n",
      "How old are you?  19\n"
     ]
    },
    {
     "name": "stdout",
     "output_type": "stream",
     "text": [
      "Hi , you will be 50 years old in 31 years.\n"
     ]
    }
   ],
   "source": [
    "# Ask the user for their name\n",
    "name = input(\"What's your name? \")\n",
    "\n",
    "# Ask the user for their age\n",
    "age = int(input(\"How old are you? \"))\n",
    "\n",
    "# Check age and respond\n",
    "if age < 50:\n",
    "    years_left = 50 - age\n",
    "    print(f\"Hi {name}, you will be 50 years old in {years_left} years.\")\n",
    "\n",
    "    # Special messages for certain age\n",
    "    if age == 18:\n",
    "        print(\"You're officially an adult!\")\n",
    "    elif age == 21:\n",
    "        print(\"You can legally drink in the US!\")\n",
    "else:\n",
    "    print(f\"Hi {name}, you are already 50 years old or older! WOW!\")\n"
   ]
  },
  {
   "cell_type": "code",
   "execution_count": null,
   "id": "30475da2-feed-4372-8fc2-e676bc2f65a4",
   "metadata": {},
   "outputs": [],
   "source": []
  }
 ],
 "metadata": {
  "kernelspec": {
   "display_name": "Python 3 (ipykernel)",
   "language": "python",
   "name": "python3"
  },
  "language_info": {
   "codemirror_mode": {
    "name": "ipython",
    "version": 3
   },
   "file_extension": ".py",
   "mimetype": "text/x-python",
   "name": "python",
   "nbconvert_exporter": "python",
   "pygments_lexer": "ipython3",
   "version": "3.11.13"
  }
 },
 "nbformat": 4,
 "nbformat_minor": 5
}
